{
  "nbformat": 4,
  "nbformat_minor": 0,
  "metadata": {
    "colab": {
      "provenance": []
    },
    "kernelspec": {
      "name": "python3",
      "display_name": "Python 3"
    },
    "language_info": {
      "name": "python"
    }
  },
  "cells": [
    {
      "cell_type": "markdown",
      "source": [
        "# **Aprendizado não Supervisionado: Agrupamento Hierárquico -Exemplo 2**\n",
        "Sílvia Moraes\n",
        "---\n",
        "\n",
        "Exemplo 2: Neste exemplo, a aplicação de agrupamento hierárquico aglomerativo é feita sobre o **dataset da planta IRIS**. Usamos o pacote Agglomerative Clustering do sklearn na implementação."
      ],
      "metadata": {
        "id": "E97JCPf5k5CO"
      }
    },
    {
      "cell_type": "code",
      "execution_count": null,
      "metadata": {
        "id": "CvmYpyIqTp3I"
      },
      "outputs": [],
      "source": [
        "import pandas as pd\n",
        "import numpy as np\n",
        "from matplotlib import pyplot as plt\n",
        "from sklearn.cluster import AgglomerativeClustering\n",
        "import scipy.cluster.hierarchy as sch"
      ]
    },
    {
      "cell_type": "markdown",
      "source": [
        "**Carga do dataset** da planta IRIS sem a classe, ou seja, sem o tipo de planta IRIS."
      ],
      "metadata": {
        "id": "0uXo4EfqlliF"
      }
    },
    {
      "cell_type": "code",
      "source": [
        "#Exemplo com a planta Iris\n",
        "iris = pd.read_csv(\"IRIS.csv\")\n",
        "X = iris.iloc[:, [0, 1, 2, 3]].values"
      ],
      "metadata": {
        "id": "y3KxvtYSlLh_"
      },
      "execution_count": null,
      "outputs": []
    },
    {
      "cell_type": "markdown",
      "source": [
        "**Agglomerative Clustering**\n",
        "\n",
        "O algoritmo possui vários parâmetros. Segue aqui alguns que usamos:\n",
        "\n",
        "*   **n_clusters** : serve para determinar quantos clusters você gostaria. Após alguns testes e visualização do dendograma, você pode estabelecer a quantidade de clusters desejada. O valor default desse parâmetro é 2.\n",
        "\n",
        "*  **metric** : métrica usada para medir a similaridade (distância) dos clusters ao longo do processo aglomerativo. Pode ser: “euclidean”, “l1”, “l2”, “manhattan”, “cosine”, or “precomputed” (neste caso, é necessário informar na entrada a matriz de distâncias/adjacências já calculada). Se for configurado como None, a métrica padrão é “euclidean”.\n",
        "*   **linkage**: define o algoritmo aglomerativo que será usado como critério para realizar o merge dos dois clusters próximos. Na prática, o algoritmo determina que pontos de cada um dos clusters sob avaliação serão considerados pela métrica que estabelece similaridade. E ainda, ao confirmar proximidade, o algoritmo realiza a união dos mesmos. Pode ser:\"ward\", \"complete\", \"average\", \"single\". \"ward\" é o default.\n",
        "\n",
        "1.   *ward* : minimiza a variância dos clusters que estão sendo unidos. Só aceita \"euclidean\" como métrica de distância.\n",
        "2.   *average* : usa a média das distâncias de cada elemento de um cluster em relação ao outro.\n",
        "1.   *complete* ou *maximum *: usa a maior distância, ao computar a distância de cada elemento de um cluster em relação ao outro.\n",
        "2.   *single* ou *minimum* : usa a menor distância, ao computar a distância de cada elemento de um cluster em relação ao outro."
      ],
      "metadata": {
        "id": "Iy_0walpl2QX"
      }
    },
    {
      "cell_type": "code",
      "source": [
        "#---------------------------------------------------------------------------------------\n",
        "#Fizemos vários testes de configuração desse algoritmo.\n",
        "#Para testar, retire os comentários apenas da configuração que você quer estudar.\n",
        "#Plotamos um dendograma para você conseguir visualizar o resultado\n",
        "#---------------------------------------------------------------------------------------\n",
        "\n",
        "#Exemplo 1\n",
        "#dendrogram = sch.dendrogram(sch.linkage(X, method='ward'))\n",
        "#model = AgglomerativeClustering(metric='euclidean', linkage='ward')\n",
        "\n",
        "#Exemplo 2\n",
        "#dendrogram = sch.dendrogram(sch.linkage(X, method='single'))\n",
        "#model = AgglomerativeClustering(n_clusters=5, metric='euclidean', linkage='single')\n",
        "\n",
        "#Exemplo 3\n",
        "dendrogram = sch.dendrogram(sch.linkage(X, method='complete'))\n",
        "model = AgglomerativeClustering(n_clusters=3, metric='euclidean', linkage='complete')\n",
        "\n",
        "#Exemplo 4\n",
        "#dendrogram = sch.dendrogram(sch.linkage(X, method='average'))\n",
        "#model = AgglomerativeClustering(n_clusters=3, metric='euclidean', linkage='average')"
      ],
      "metadata": {
        "colab": {
          "base_uri": "https://localhost:8080/",
          "height": 429
        },
        "id": "bSYRpr0ylV7m",
        "outputId": "4589f722-5ded-4ac7-d865-3d8363c29504"
      },
      "execution_count": null,
      "outputs": [
        {
          "output_type": "display_data",
          "data": {
            "text/plain": [
              "<Figure size 640x480 with 1 Axes>"
            ],
            "image/png": "[encoded data removed]"
          },
          "metadata": {}
        }
      ]
    },
    {
      "cell_type": "markdown",
      "source": [
        "Trecho a seguir que mostra como os dados foram agrupados. Usamos os labels atribuidos pelo algoritmo para mostrar a organização realizada pelo algoritmo."
      ],
      "metadata": {
        "id": "ANivmASNmGuV"
      }
    },
    {
      "cell_type": "code",
      "source": [
        "model.fit(X)\n",
        "labels = model.labels_\n",
        "numCluster = model.n_clusters\n",
        "print(\"Cluster dos dados: \", labels)\n",
        "print(\"Numero de clusters: \", numCluster)\n",
        "\n",
        "for iCluster in range(0,numCluster):\n",
        "  print(\"Cluster: \", iCluster)\n",
        "  for indice in range(0, len(labels)):\n",
        "    if labels[indice]==iCluster: print(X[indice])\n",
        "\n",
        "plt.show()"
      ],
      "metadata": {
        "colab": {
          "base_uri": "https://localhost:8080/"
        },
        "id": "QMCKcKOlldL1",
        "outputId": "20269ef1-d66f-48ac-b202-4f24cae3713c"
      },
      "execution_count": null,
      "outputs": [
        {
          "output_type": "stream",
          "name": "stdout",
          "text": [
            "Cluster dos dados:  [1 1 1 1 1 1 1 1 1 1 1 1 1 1 1 1 1 1 1 1 1 1 1 1 1 1 1 1 1 1 1 1 1 1 1 1 1\n",
            " 1 1 1 1 1 1 1 1 1 1 1 1 1 0 0 0 2 0 2 0 2 0 2 2 2 2 0 2 0 2 2 0 2 0 2 0 0\n",
            " 0 0 0 0 0 2 2 2 2 0 2 0 0 0 2 2 2 0 2 2 2 2 2 0 2 2 0 0 0 0 0 0 2 0 0 0 0\n",
            " 0 0 0 0 0 0 0 0 0 0 0 0 0 0 0 0 0 0 0 0 0 0 0 0 0 0 0 0 0 0 0 0 0 0 0 0 0\n",
            " 0 0]\n",
            "Numero de clusters:  3\n",
            "Cluster:  0\n",
            "[7.  3.2 4.7 1.4]\n",
            "[6.4 3.2 4.5 1.5]\n",
            "[6.9 3.1 4.9 1.5]\n",
            "[6.5 2.8 4.6 1.5]\n",
            "[6.3 3.3 4.7 1.6]\n",
            "[6.6 2.9 4.6 1.3]\n",
            "[6.1 2.9 4.7 1.4]\n",
            "[6.7 3.1 4.4 1.4]\n",
            "[6.2 2.2 4.5 1.5]\n",
            "[5.9 3.2 4.8 1.8]\n",
            "[6.3 2.5 4.9 1.5]\n",
            "[6.1 2.8 4.7 1.2]\n",
            "[6.4 2.9 4.3 1.3]\n",
            "[6.6 3.  4.4 1.4]\n",
            "[6.8 2.8 4.8 1.4]\n",
            "[6.7 3.  5.  1.7]\n",
            "[6.  2.9 4.5 1.5]\n",
            "[6.  2.7 5.1 1.6]\n",
            "[6.  3.4 4.5 1.6]\n",
            "[6.7 3.1 4.7 1.5]\n",
            "[6.3 2.3 4.4 1.3]\n",
            "[6.1 3.  4.6 1.4]\n",
            "[6.2 2.9 4.3 1.3]\n",
            "[6.3 3.3 6.  2.5]\n",
            "[5.8 2.7 5.1 1.9]\n",
            "[7.1 3.  5.9 2.1]\n",
            "[6.3 2.9 5.6 1.8]\n",
            "[6.5 3.  5.8 2.2]\n",
            "[7.6 3.  6.6 2.1]\n",
            "[7.3 2.9 6.3 1.8]\n",
            "[6.7 2.5 5.8 1.8]\n",
            "[7.2 3.6 6.1 2.5]\n",
            "[6.5 3.2 5.1 2. ]\n",
            "[6.4 2.7 5.3 1.9]\n",
            "[6.8 3.  5.5 2.1]\n",
            "[5.7 2.5 5.  2. ]\n",
            "[5.8 2.8 5.1 2.4]\n",
            "[6.4 3.2 5.3 2.3]\n",
            "[6.5 3.  5.5 1.8]\n",
            "[7.7 3.8 6.7 2.2]\n",
            "[7.7 2.6 6.9 2.3]\n",
            "[6.  2.2 5.  1.5]\n",
            "[6.9 3.2 5.7 2.3]\n",
            "[5.6 2.8 4.9 2. ]\n",
            "[7.7 2.8 6.7 2. ]\n",
            "[6.3 2.7 4.9 1.8]\n",
            "[6.7 3.3 5.7 2.1]\n",
            "[7.2 3.2 6.  1.8]\n",
            "[6.2 2.8 4.8 1.8]\n",
            "[6.1 3.  4.9 1.8]\n",
            "[6.4 2.8 5.6 2.1]\n",
            "[7.2 3.  5.8 1.6]\n",
            "[7.4 2.8 6.1 1.9]\n",
            "[7.9 3.8 6.4 2. ]\n",
            "[6.4 2.8 5.6 2.2]\n",
            "[6.3 2.8 5.1 1.5]\n",
            "[6.1 2.6 5.6 1.4]\n",
            "[7.7 3.  6.1 2.3]\n",
            "[6.3 3.4 5.6 2.4]\n",
            "[6.4 3.1 5.5 1.8]\n",
            "[6.  3.  4.8 1.8]\n",
            "[6.9 3.1 5.4 2.1]\n",
            "[6.7 3.1 5.6 2.4]\n",
            "[6.9 3.1 5.1 2.3]\n",
            "[5.8 2.7 5.1 1.9]\n",
            "[6.8 3.2 5.9 2.3]\n",
            "[6.7 3.3 5.7 2.5]\n",
            "[6.7 3.  5.2 2.3]\n",
            "[6.3 2.5 5.  1.9]\n",
            "[6.5 3.  5.2 2. ]\n",
            "[6.2 3.4 5.4 2.3]\n",
            "[5.9 3.  5.1 1.8]\n",
            "Cluster:  1\n",
            "[5.1 3.5 1.4 0.2]\n",
            "[4.9 3.  1.4 0.2]\n",
            "[4.7 3.2 1.3 0.2]\n",
            "[4.6 3.1 1.5 0.2]\n",
            "[5.  3.6 1.4 0.2]\n",
            "[5.4 3.9 1.7 0.4]\n",
            "[4.6 3.4 1.4 0.3]\n",
            "[5.  3.4 1.5 0.2]\n",
            "[4.4 2.9 1.4 0.2]\n",
            "[4.9 3.1 1.5 0.1]\n",
            "[5.4 3.7 1.5 0.2]\n",
            "[4.8 3.4 1.6 0.2]\n",
            "[4.8 3.  1.4 0.1]\n",
            "[4.3 3.  1.1 0.1]\n",
            "[5.8 4.  1.2 0.2]\n",
            "[5.7 4.4 1.5 0.4]\n",
            "[5.4 3.9 1.3 0.4]\n",
            "[5.1 3.5 1.4 0.3]\n",
            "[5.7 3.8 1.7 0.3]\n",
            "[5.1 3.8 1.5 0.3]\n",
            "[5.4 3.4 1.7 0.2]\n",
            "[5.1 3.7 1.5 0.4]\n",
            "[4.6 3.6 1.  0.2]\n",
            "[5.1 3.3 1.7 0.5]\n",
            "[4.8 3.4 1.9 0.2]\n",
            "[5.  3.  1.6 0.2]\n",
            "[5.  3.4 1.6 0.4]\n",
            "[5.2 3.5 1.5 0.2]\n",
            "[5.2 3.4 1.4 0.2]\n",
            "[4.7 3.2 1.6 0.2]\n",
            "[4.8 3.1 1.6 0.2]\n",
            "[5.4 3.4 1.5 0.4]\n",
            "[5.2 4.1 1.5 0.1]\n",
            "[5.5 4.2 1.4 0.2]\n",
            "[4.9 3.1 1.5 0.1]\n",
            "[5.  3.2 1.2 0.2]\n",
            "[5.5 3.5 1.3 0.2]\n",
            "[4.9 3.1 1.5 0.1]\n",
            "[4.4 3.  1.3 0.2]\n",
            "[5.1 3.4 1.5 0.2]\n",
            "[5.  3.5 1.3 0.3]\n",
            "[4.5 2.3 1.3 0.3]\n",
            "[4.4 3.2 1.3 0.2]\n",
            "[5.  3.5 1.6 0.6]\n",
            "[5.1 3.8 1.9 0.4]\n",
            "[4.8 3.  1.4 0.3]\n",
            "[5.1 3.8 1.6 0.2]\n",
            "[4.6 3.2 1.4 0.2]\n",
            "[5.3 3.7 1.5 0.2]\n",
            "[5.  3.3 1.4 0.2]\n",
            "Cluster:  2\n",
            "[5.5 2.3 4.  1.3]\n",
            "[5.7 2.8 4.5 1.3]\n",
            "[4.9 2.4 3.3 1. ]\n",
            "[5.2 2.7 3.9 1.4]\n",
            "[5.  2.  3.5 1. ]\n",
            "[5.9 3.  4.2 1.5]\n",
            "[6.  2.2 4.  1. ]\n",
            "[5.6 2.9 3.6 1.3]\n",
            "[5.6 3.  4.5 1.5]\n",
            "[5.8 2.7 4.1 1. ]\n",
            "[5.6 2.5 3.9 1.1]\n",
            "[6.1 2.8 4.  1.3]\n",
            "[5.7 2.6 3.5 1. ]\n",
            "[5.5 2.4 3.8 1.1]\n",
            "[5.5 2.4 3.7 1. ]\n",
            "[5.8 2.7 3.9 1.2]\n",
            "[5.4 3.  4.5 1.5]\n",
            "[5.6 3.  4.1 1.3]\n",
            "[5.5 2.5 4.  1.3]\n",
            "[5.5 2.6 4.4 1.2]\n",
            "[5.8 2.6 4.  1.2]\n",
            "[5.  2.3 3.3 1. ]\n",
            "[5.6 2.7 4.2 1.3]\n",
            "[5.7 3.  4.2 1.2]\n",
            "[5.7 2.9 4.2 1.3]\n",
            "[5.1 2.5 3.  1.1]\n",
            "[5.7 2.8 4.1 1.3]\n",
            "[4.9 2.5 4.5 1.7]\n"
          ]
        }
      ]
    }
  ]
}