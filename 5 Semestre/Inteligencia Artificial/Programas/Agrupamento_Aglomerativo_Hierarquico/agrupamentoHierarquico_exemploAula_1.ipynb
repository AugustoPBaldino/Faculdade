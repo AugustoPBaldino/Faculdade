{
  "nbformat": 4,
  "nbformat_minor": 0,
  "metadata": {
    "colab": {
      "provenance": []
    },
    "kernelspec": {
      "name": "python3",
      "display_name": "Python 3"
    },
    "language_info": {
      "name": "python"
    }
  },
  "cells": [
    {
      "cell_type": "markdown",
      "source": [
        "# **Aprendizado não Supervisionado: Agrupamento Hierárquico**\n",
        "Sílvia Moraes\n",
        "---\n",
        "\n",
        "Exemplo 1: Neste exemplo, a aplicação de agrupamento hierárquico aglomerativo é feita sobre uma **lista de pontos**. Usamos o pacote Agglomerative Clustering do sklearn na implementação."
      ],
      "metadata": {
        "id": "9xlKeuFUPegP"
      }
    },
    {
      "cell_type": "code",
      "execution_count": null,
      "metadata": {
        "id": "CvmYpyIqTp3I"
      },
      "outputs": [],
      "source": [
        "import pandas as pd\n",
        "import numpy as np\n",
        "from matplotlib import pyplot as plt\n",
        "from sklearn.cluster import AgglomerativeClustering\n",
        "import scipy.cluster.hierarchy as sch"
      ]
    },
    {
      "cell_type": "markdown",
      "source": [
        "Criamos uma lista de pontos, cuja construção é ilustrada abaixo."
      ],
      "metadata": {
        "id": "VRKjN5_bPZno"
      }
    },
    {
      "cell_type": "code",
      "source": [
        "# Usando pontos como exemplo\n",
        "#x1 = [1,2,3,4,5,6,7]\n",
        "#x2 = [1,1,4,6,3,4,3]\n",
        "\n",
        "# Se quiser ver como mais pontos, retire os comentários das linhas a seguir\n",
        "x1 = [3, 3, -5, -6, -5, 3, 4, 3, 5, -6, 4, 5, -4, -4, 5, -4, 5, 3, 2, 2, 3]\n",
        "x2 = [3, 4, -5,  4,  4,-5, 4,-5,-6, -4, 5, 6,  6,  7,-3,  4, -5,6, 7,-5, 6]\n",
        "\n",
        "\n",
        "X = []\n",
        "for i in range(0,len(x1)):\n",
        "  X.append([x1[i],x2[i]])\n",
        "print(\"Lista de pontos:\\n\", X , \"\\n\")"
      ],
      "metadata": {
        "colab": {
          "base_uri": "https://localhost:8080/"
        },
        "id": "NETS_hFthSOp",
        "outputId": "023c4230-719c-4f11-c3e4-dac178672b7f"
      },
      "execution_count": null,
      "outputs": [
        {
          "output_type": "stream",
          "name": "stdout",
          "text": [
            "Lista de pontos:\n",
            " [[3, 3], [3, 4], [-5, -5], [-6, 4], [-5, 4], [3, -5], [4, 4], [3, -5], [5, -6], [-6, -4], [4, 5], [5, 6], [-4, 6], [-4, 7], [5, -3], [-4, 4], [5, -5], [3, 6], [2, 7], [2, -5], [3, 6]] \n",
            "\n"
          ]
        }
      ]
    },
    {
      "cell_type": "markdown",
      "source": [
        "**Agglomerative Clustering**\n",
        "\n",
        "O algoritmo possui vários parâmetros. Segue aqui alguns que usamos:\n",
        "\n",
        "*   **n_clusters** : serve para determinar quantos clusters você gostaria. Após alguns testes e visualização do dendograma, você pode estabelecer a quantidade de clusters desejada. O valor default desse parâmetro é 2.\n",
        "\n",
        "*  **metric** : métrica usada para medir a similaridade (distância) dos clusters ao longo do processo aglomerativo. Pode ser: “euclidean”, “l1”, “l2”, “manhattan”, “cosine”, or “precomputed” (neste caso, é necessário informar na entrada a matriz de distâncias/adjacências já calculada). Se for configurado como None, a métrica padrão é “euclidean”.\n",
        "*   **linkage**: define o algoritmo aglomerativo que será usado como critério para realizar o merge dos dois clusters próximos. Na prática, o algoritmo determina que pontos de cada um dos clusters sob avaliação serão considerados pela métrica que estabelece similaridade. E ainda, ao confirmar proximidade, o algoritmo realiza a união dos mesmos. Pode ser:\"ward\", \"complete\", \"average\", \"single\". \"ward\" é o default.\n",
        "\n",
        "1.   *ward* : minimiza a variância dos clusters que estão sendo unidos. Só aceita \"euclidean\" como métrica de distância.\n",
        "2.   *average* : usa a média das distâncias de cada elemento de um cluster em relação ao outro.\n",
        "1.   *complete* ou *maximum *: usa a maior distância, ao computar a distância de cada elemento de um cluster em relação ao outro.\n",
        "2.   *single* ou *minimum* : usa a menor distância, ao computar a distância de cada elemento de um cluster em relação ao outro."
      ],
      "metadata": {
        "id": "6s9OLK4ZRgLm"
      }
    },
    {
      "cell_type": "code",
      "source": [
        "#---------------------------------------------------------------------------------------\n",
        "#Fizemos vários testes de configuração desse algoritmo.\n",
        "#Para testar, retire os comentários apenas da configuração que você quer estudar.\n",
        "#Plotamos um dendograma para você conseguir visualizar o resultado\n",
        "#---------------------------------------------------------------------------------------\n",
        "\n",
        "#Exemplo 1\n",
        "#dendrogram = sch.dendrogram(sch.linkage(X, method='ward'))\n",
        "#model = AgglomerativeClustering(n_clusters=5, metric='euclidean', linkage='ward')\n",
        "\n",
        "#Exemplo 2\n",
        "#dendrogram = sch.dendrogram(sch.linkage(X, method='single'))\n",
        "#model = AgglomerativeClustering(n_clusters=5, metric='euclidean', linkage='single')\n",
        "\n",
        "#Exemplo 3\n",
        "#dendrogram = sch.dendrogram(sch.linkage(X, method='complete'))\n",
        "#model = AgglomerativeClustering(n_clusters=5, metric='euclidean', linkage='complete')\n",
        "\n",
        "#Exemplo 4\n",
        "dendrogram = sch.dendrogram(sch.linkage(X, method='average'))\n",
        "model = AgglomerativeClustering(metric='euclidean', linkage='average')\n",
        "\n",
        "model.fit(X)\n",
        "labels = model.labels_\n",
        "numCluster = model.n_clusters\n",
        "print(\"Cluster dos dados: \", labels)\n",
        "print(\"Numero de clusters: \", numCluster)\n"
      ],
      "metadata": {
        "colab": {
          "base_uri": "https://localhost:8080/",
          "height": 473
        },
        "id": "QKaXv-hHhWOn",
        "outputId": "d4dbd978-0963-421e-86e4-254d5f567cfa"
      },
      "execution_count": null,
      "outputs": [
        {
          "output_type": "stream",
          "name": "stdout",
          "text": [
            "Cluster dos dados:  [1 1 0 1 1 0 1 0 0 0 1 1 1 1 0 1 0 1 1 0 1]\n",
            "Numero de clusters:  2\n"
          ]
        },
        {
          "output_type": "display_data",
          "data": {
            "text/plain": [
              "<Figure size 640x480 with 1 Axes>"
            ],
            "image/png": "[encoded data removed]"
          },
          "metadata": {}
        }
      ]
    },
    {
      "cell_type": "markdown",
      "source": [
        "Trecho a seguir que mostra como os dados foram agrupados. Usamos os labels atribuidos pelo algoritmo para mostrar a organização realizada pelo algoritmo."
      ],
      "metadata": {
        "id": "p83Az726fdMY"
      }
    },
    {
      "cell_type": "code",
      "source": [
        "for iCluster in range(0,numCluster):\n",
        "  print(\"Cluster: \", iCluster)\n",
        "  for indice in range(0, len(labels)):\n",
        "    if labels[indice]==iCluster: print(X[indice])\n",
        "\n",
        "plt.show()"
      ],
      "metadata": {
        "colab": {
          "base_uri": "https://localhost:8080/"
        },
        "id": "XPr5oum9hJHU",
        "outputId": "435d3838-928e-43e6-8f45-d96960a7f55b"
      },
      "execution_count": null,
      "outputs": [
        {
          "output_type": "stream",
          "name": "stdout",
          "text": [
            "Cluster:  0\n",
            "[-5, -5]\n",
            "[3, -5]\n",
            "[3, -5]\n",
            "[5, -6]\n",
            "[-6, -4]\n",
            "[5, -3]\n",
            "[5, -5]\n",
            "[2, -5]\n",
            "Cluster:  1\n",
            "[3, 3]\n",
            "[3, 4]\n",
            "[-6, 4]\n",
            "[-5, 4]\n",
            "[4, 4]\n",
            "[4, 5]\n",
            "[5, 6]\n",
            "[-4, 6]\n",
            "[-4, 7]\n",
            "[-4, 4]\n",
            "[3, 6]\n",
            "[2, 7]\n",
            "[3, 6]\n"
          ]
        }
      ]
    }
  ]
}